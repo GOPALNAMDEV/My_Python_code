{
  "nbformat": 4,
  "nbformat_minor": 0,
  "metadata": {
    "colab": {
      "provenance": [],
      "authorship_tag": "ABX9TyOCUpPk/rtmoCpBz5AzGZM0",
      "include_colab_link": true
    },
    "kernelspec": {
      "name": "python3",
      "display_name": "Python 3"
    },
    "language_info": {
      "name": "python"
    }
  },
  "cells": [
    {
      "cell_type": "markdown",
      "metadata": {
        "id": "view-in-github",
        "colab_type": "text"
      },
      "source": [
        "<a href=\"https://colab.research.google.com/github/GOPALNAMDEV/My_Python_code/blob/main/machine_learning/linear_regresion.ipynb\" target=\"_parent\"><img src=\"https://colab.research.google.com/assets/colab-badge.svg\" alt=\"Open In Colab\"/></a>"
      ]
    },
    {
      "cell_type": "code",
      "execution_count": 1,
      "metadata": {
        "id": "SmbmWNVe16OJ"
      },
      "outputs": [],
      "source": [
        "import matplotlib.pyplot as plt\n",
        "import pandas as pd\n",
        "import numpy as np\n",
        "from sklearn import datasets, linear_model\n",
        "from sklearn.metrics import mean_squared_error, r2_score"
      ]
    },
    {
      "cell_type": "code",
      "source": [
        "diabetes = datasets.load_diabetes()\n",
        "diabetes_X = diabetes.data\n",
        "diabetes_X_train = diabetes_X[:-30]\n",
        "diabetes_X_test = diabetes_X[-20:]\n",
        "\n",
        "diabetes_Y_train = diabetes.target[:-30]\n",
        "diabetes_Y_test =diabetes.target[-20:]\n",
        "\n",
        "model = linear_model.LinearRegression()\n",
        "model.fit(diabetes_X_train, diabetes_Y_train)\n",
        "\n",
        "diabetes_Y_predicted = model.predict(diabetes_X_test)\n",
        "\n",
        "print(\"mean squared error is: \", mean_squared_error(diabetes_Y_test, diabetes_Y_predicted))\n",
        "\n",
        "print(\"weights: \", model.coef_)\n",
        "print(\"intercept: \", model.intercept_)"
      ],
      "metadata": {
        "colab": {
          "base_uri": "https://localhost:8080/"
        },
        "id": "IaQtwzKB2KGo",
        "outputId": "452df6fe-269d-460b-d69e-949ca17fe7f9"
      },
      "execution_count": 2,
      "outputs": [
        {
          "output_type": "stream",
          "name": "stdout",
          "text": [
            "mean squared error is:  2004.2629212944946\n",
            "weights:  [  -1.16678648 -237.18123633  518.31283524  309.04204042 -763.10835067\n",
            "  458.88378916   80.61107395  174.31796962  721.48087773   79.1952801 ]\n",
            "intercept:  153.05824267739402\n"
          ]
        }
      ]
    }
  ]
}